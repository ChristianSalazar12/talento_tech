## 📄 Proyecto: Sistema Educativo de Seguridad de Contraseñas con Tokenización y Cifrado

## 📅 Descripción del Proyecto

Este proyecto consiste en el desarrollo de una aplicación educativa interactiva, diseñada para enseñar a los usuarios las buenas prácticas en la creación y gestión de contraseñas. Incluye módulos de evaluación de contraseñas, generación de tokens, cifrado simétrico y asimétrico, y simulación de ataques de fuerza bruta como método de concientización.

## 🔍 Objetivo General

Desarrollar una aplicación que permita a los usuarios fortalecer y proteger sus contraseñas mediante técnicas de tokenización, cifrado y evaluación de seguridad, promoviendo la concientización en ciberseguridad.

## 🔍 Objetivos Específicos

1. Implementar un sistema de generación de tokens seguros.
2. Aplicar algoritmos de cifrado y doble cifrado (César, Vigenère).
3. Desarrollar una interfaz intuitiva para educar sobre contraseñas seguras.
4. Simular ataques de fuerza bruta para demostrar vulnerabilidades.
5. Fomentar el uso de buenas prácticas en la gestión de contraseñas.

## 📆 Estructura del Proyecto

```
/Proyecto_Seguridad/
├── generator.py              # Generación de tokens seguros
├── evaluator.py              # Evaluación de la seguridad de contraseñas
├── encryption.py             # Cifrado y doble cifrado de contraseñas
├── stroke.py                 # Simulación de fuerza bruta
├── mnemotecnia.py            # Creación de mnemotecnia para contraseñas
├── interfaz.py               # Interfaz gráfica del proyecto
├── registro.json             # Base de datos con contraseñas cifradas
└── requirements.txt          # Dependencias del proyecto
```

## 🔬 Códigos y Explicación de Funciones

### 📉 Evaluación de Contraseñas (`evaluator.py`)

```python
from evaluator import is_valid_password

criterios, nivel = is_valid_password("P@ssword123")
print("Criterios:", criterios)
print("Nivel de Seguridad:", nivel)
```

**Explicación:** Evalúa si la contraseña contiene mínimo 8 caracteres, mayúsculas, minúsculas, números y símbolos. Retorna los criterios cumplidos y el nivel de seguridad.

### 💡 Generación de Tokens (`generator.py`)

```python
from generator import generar_tokens_compuestos

tokens = generar_tokens_compuestos("P@ssword123", "9#")
print(tokens)
```

**Explicación:** Genera cadenas aleatorias combinadas con la contraseña base y un conjunto de caracteres extra, creando tokens fuertes para autenticación o almacenamiento seguro.

### 🔐 Cifrado de Contraseñas (`encryption.py`)

```python
from encryption import double_encrypt

resultado = double_encrypt("P@ssword123", "clave")
print("Resultado cifrado:", resultado)
```

**Explicación:** Aplica cifrado César y luego Vigenère sobre la contraseña, generando una cadena cifrada más segura.

### 🚀 Simulación de Fuerza Bruta (`stroke.py`)

```python
from stroke import force_stroke_cessar

resultado = force_stroke_cessar("CifradoEjemplo")
print(resultado)
```

**Explicación:** Intenta descifrar un texto cifrado con el método César usando prueba y error de todas las claves posibles, demostrando cuán vulnerable es este cifrado frente a un ataque de fuerza bruta.

## 🎓 Conclusión

El proyecto no solo ayuda a proteger contraseñas, sino que también enseña de forma práctica los riesgos asociados a contraseñas débiles y la importancia de adoptar buenas prácticas de seguridad digital.

## 📖 Referencias

* CISA (2024). Password Guidance. [https://www.cisa.gov](https://www.cisa.gov)
* Walden University (2023). Cybersecurity Best Practices. [https://www.waldenu.edu](https://www.waldenu.edu)
* Barnett, B. (2023). Tokenization for Data Security. [https://www.privacy.org](https://www.privacy.org)
